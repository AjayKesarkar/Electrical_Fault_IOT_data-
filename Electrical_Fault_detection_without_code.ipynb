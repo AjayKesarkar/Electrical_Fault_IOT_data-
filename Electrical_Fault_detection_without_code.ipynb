{
 "cells": [
  {
   "cell_type": "markdown",
   "metadata": {
    "id": "W3EatTY4VQ4S"
   },
   "source": [
    "# Electrical Fault detection"
   ]
  },
  {
   "cell_type": "markdown",
   "metadata": {
    "id": "yOPnc8tVVg_a"
   },
   "source": [
    "We have to predict faults in a power system."
   ]
  },
  {
   "cell_type": "markdown",
   "metadata": {
    "id": "DYUvjaFqVtKh"
   },
   "source": [
    "# Dataset Desciption\n",
    "\n",
    "The dataset contains one file \n",
    "\n",
    "detect_dataset.csv\n",
    "\n",
    "shape of the dataset is (12001, 9)\n",
    "\n",
    "# Columns in dataset\n",
    "\n",
    "there are seven columns\n",
    "\n",
    "'Output (S)',\n",
    "\n",
    "'Ia',\n",
    "\n",
    "'Ib',\n",
    "\n",
    "'Ic',\n",
    "\n",
    "'Va', \n",
    "\n",
    "'Vb', \n",
    "\n",
    "'Vc', \n",
    "\n",
    "'Unnamed: 7',\n",
    "\n",
    "'Unnamed: 8'\n",
    "\n",
    "Outputs - 0 (No-fault) or 1(Fault is present)"
   ]
  },
  {
   "cell_type": "code",
   "execution_count": 24,
   "metadata": {
    "id": "onJmI6AzieJL"
   },
   "outputs": [],
   "source": [
    "# Importing Necessary Libraries\n",
    "import numpy as np\n",
    "import pandas as pd\n",
    "import matplotlib.pyplot as plt\n",
    "import seaborn as sns"
   ]
  },
  {
   "cell_type": "code",
   "execution_count": 25,
   "metadata": {
    "id": "t3U0ef3llvMd"
   },
   "outputs": [],
   "source": [
    "# Read csv file using pandas\n",
    "df = pd.read_csv('detect_dataset.csv')"
   ]
  },
  {
   "cell_type": "code",
   "execution_count": 26,
   "metadata": {
    "colab": {
     "base_uri": "https://localhost:8080/",
     "height": 204
    },
    "id": "yckoKHYilvJT",
    "outputId": "49aaad64-a1ae-4105-8588-d5e8a802945a"
   },
   "outputs": [
    {
     "data": {
      "text/html": [
       "<div>\n",
       "<style scoped>\n",
       "    .dataframe tbody tr th:only-of-type {\n",
       "        vertical-align: middle;\n",
       "    }\n",
       "\n",
       "    .dataframe tbody tr th {\n",
       "        vertical-align: top;\n",
       "    }\n",
       "\n",
       "    .dataframe thead th {\n",
       "        text-align: right;\n",
       "    }\n",
       "</style>\n",
       "<table border=\"1\" class=\"dataframe\">\n",
       "  <thead>\n",
       "    <tr style=\"text-align: right;\">\n",
       "      <th></th>\n",
       "      <th>Output (S)</th>\n",
       "      <th>Ia</th>\n",
       "      <th>Ib</th>\n",
       "      <th>Ic</th>\n",
       "      <th>Va</th>\n",
       "      <th>Vb</th>\n",
       "      <th>Vc</th>\n",
       "      <th>Unnamed: 7</th>\n",
       "      <th>Unnamed: 8</th>\n",
       "    </tr>\n",
       "  </thead>\n",
       "  <tbody>\n",
       "    <tr>\n",
       "      <th>0</th>\n",
       "      <td>0</td>\n",
       "      <td>-170.472196</td>\n",
       "      <td>9.219613</td>\n",
       "      <td>161.252583</td>\n",
       "      <td>0.054490</td>\n",
       "      <td>-0.659921</td>\n",
       "      <td>0.605431</td>\n",
       "      <td>NaN</td>\n",
       "      <td>NaN</td>\n",
       "    </tr>\n",
       "    <tr>\n",
       "      <th>1</th>\n",
       "      <td>0</td>\n",
       "      <td>-122.235754</td>\n",
       "      <td>6.168667</td>\n",
       "      <td>116.067087</td>\n",
       "      <td>0.102000</td>\n",
       "      <td>-0.628612</td>\n",
       "      <td>0.526202</td>\n",
       "      <td>NaN</td>\n",
       "      <td>NaN</td>\n",
       "    </tr>\n",
       "    <tr>\n",
       "      <th>2</th>\n",
       "      <td>0</td>\n",
       "      <td>-90.161474</td>\n",
       "      <td>3.813632</td>\n",
       "      <td>86.347841</td>\n",
       "      <td>0.141026</td>\n",
       "      <td>-0.605277</td>\n",
       "      <td>0.464251</td>\n",
       "      <td>NaN</td>\n",
       "      <td>NaN</td>\n",
       "    </tr>\n",
       "    <tr>\n",
       "      <th>3</th>\n",
       "      <td>0</td>\n",
       "      <td>-79.904916</td>\n",
       "      <td>2.398803</td>\n",
       "      <td>77.506112</td>\n",
       "      <td>0.156272</td>\n",
       "      <td>-0.602235</td>\n",
       "      <td>0.445963</td>\n",
       "      <td>NaN</td>\n",
       "      <td>NaN</td>\n",
       "    </tr>\n",
       "    <tr>\n",
       "      <th>4</th>\n",
       "      <td>0</td>\n",
       "      <td>-63.885255</td>\n",
       "      <td>0.590667</td>\n",
       "      <td>63.294587</td>\n",
       "      <td>0.180451</td>\n",
       "      <td>-0.591501</td>\n",
       "      <td>0.411050</td>\n",
       "      <td>NaN</td>\n",
       "      <td>NaN</td>\n",
       "    </tr>\n",
       "  </tbody>\n",
       "</table>\n",
       "</div>"
      ],
      "text/plain": [
       "   Output (S)          Ia        Ib          Ic        Va        Vb        Vc  \\\n",
       "0           0 -170.472196  9.219613  161.252583  0.054490 -0.659921  0.605431   \n",
       "1           0 -122.235754  6.168667  116.067087  0.102000 -0.628612  0.526202   \n",
       "2           0  -90.161474  3.813632   86.347841  0.141026 -0.605277  0.464251   \n",
       "3           0  -79.904916  2.398803   77.506112  0.156272 -0.602235  0.445963   \n",
       "4           0  -63.885255  0.590667   63.294587  0.180451 -0.591501  0.411050   \n",
       "\n",
       "   Unnamed: 7  Unnamed: 8  \n",
       "0         NaN         NaN  \n",
       "1         NaN         NaN  \n",
       "2         NaN         NaN  \n",
       "3         NaN         NaN  \n",
       "4         NaN         NaN  "
      ]
     },
     "execution_count": 26,
     "metadata": {},
     "output_type": "execute_result"
    }
   ],
   "source": [
    "df.head()"
   ]
  },
  {
   "cell_type": "markdown",
   "metadata": {
    "id": "174wyWpVWXHr"
   },
   "source": [
    "# basic EDA"
   ]
  },
  {
   "cell_type": "code",
   "execution_count": 27,
   "metadata": {
    "colab": {
     "base_uri": "https://localhost:8080/"
    },
    "id": "RDwkZbfflvIK",
    "outputId": "4ceaf0e6-9533-4166-edf6-efd56be2cf91"
   },
   "outputs": [
    {
     "data": {
      "text/plain": [
       "(12001, 9)"
      ]
     },
     "execution_count": 27,
     "metadata": {},
     "output_type": "execute_result"
    }
   ],
   "source": [
    "#check shape of the dataset\n",
    "df.shape"
   ]
  },
  {
   "cell_type": "code",
   "execution_count": 28,
   "metadata": {
    "colab": {
     "base_uri": "https://localhost:8080/"
    },
    "id": "7e8t0ue5lvEV",
    "outputId": "01d2ccde-ba8d-4000-e6c0-d41268f632dd"
   },
   "outputs": [
    {
     "data": {
      "text/plain": [
       "Index(['Output (S)', 'Ia', 'Ib', 'Ic', 'Va', 'Vb', 'Vc', 'Unnamed: 7',\n",
       "       'Unnamed: 8'],\n",
       "      dtype='object')"
      ]
     },
     "execution_count": 28,
     "metadata": {},
     "output_type": "execute_result"
    }
   ],
   "source": [
    "# check columns of dataset\n",
    "df.columns"
   ]
  },
  {
   "cell_type": "code",
   "execution_count": 29,
   "metadata": {
    "colab": {
     "base_uri": "https://localhost:8080/"
    },
    "id": "qmywjdE5SjwQ",
    "outputId": "c99859a9-712f-463b-ae69-36d16a506e82"
   },
   "outputs": [
    {
     "data": {
      "text/plain": [
       "12001"
      ]
     },
     "execution_count": 29,
     "metadata": {},
     "output_type": "execute_result"
    }
   ],
   "source": [
    "# check length of dataset\n",
    "len(df)"
   ]
  },
  {
   "cell_type": "code",
   "execution_count": 30,
   "metadata": {
    "colab": {
     "base_uri": "https://localhost:8080/"
    },
    "id": "1bFLlxnlSgGc",
    "outputId": "05f3b999-f9e0-4dc3-9539-cbe13455c36a"
   },
   "outputs": [
    {
     "name": "stdout",
     "output_type": "stream",
     "text": [
      "<class 'pandas.core.frame.DataFrame'>\n",
      "RangeIndex: 12001 entries, 0 to 12000\n",
      "Data columns (total 9 columns):\n",
      " #   Column      Non-Null Count  Dtype  \n",
      "---  ------      --------------  -----  \n",
      " 0   Output (S)  12001 non-null  int64  \n",
      " 1   Ia          12001 non-null  float64\n",
      " 2   Ib          12001 non-null  float64\n",
      " 3   Ic          12001 non-null  float64\n",
      " 4   Va          12001 non-null  float64\n",
      " 5   Vb          12001 non-null  float64\n",
      " 6   Vc          12001 non-null  float64\n",
      " 7   Unnamed: 7  0 non-null      float64\n",
      " 8   Unnamed: 8  0 non-null      float64\n",
      "dtypes: float64(8), int64(1)\n",
      "memory usage: 843.9 KB\n"
     ]
    }
   ],
   "source": [
    "# Check which columns are having categorical, numerical or boolean values\n",
    "df.info()"
   ]
  },
  {
   "cell_type": "code",
   "execution_count": 31,
   "metadata": {
    "colab": {
     "base_uri": "https://localhost:8080/",
     "height": 296
    },
    "id": "WEEyYVD_lvDU",
    "outputId": "e04f39c9-8c0f-4b77-ccba-64e89315a310"
   },
   "outputs": [
    {
     "data": {
      "text/html": [
       "<div>\n",
       "<style scoped>\n",
       "    .dataframe tbody tr th:only-of-type {\n",
       "        vertical-align: middle;\n",
       "    }\n",
       "\n",
       "    .dataframe tbody tr th {\n",
       "        vertical-align: top;\n",
       "    }\n",
       "\n",
       "    .dataframe thead th {\n",
       "        text-align: right;\n",
       "    }\n",
       "</style>\n",
       "<table border=\"1\" class=\"dataframe\">\n",
       "  <thead>\n",
       "    <tr style=\"text-align: right;\">\n",
       "      <th></th>\n",
       "      <th>Output (S)</th>\n",
       "      <th>Ia</th>\n",
       "      <th>Ib</th>\n",
       "      <th>Ic</th>\n",
       "      <th>Va</th>\n",
       "      <th>Vb</th>\n",
       "      <th>Vc</th>\n",
       "      <th>Unnamed: 7</th>\n",
       "      <th>Unnamed: 8</th>\n",
       "    </tr>\n",
       "  </thead>\n",
       "  <tbody>\n",
       "    <tr>\n",
       "      <th>count</th>\n",
       "      <td>12001.000000</td>\n",
       "      <td>12001.000000</td>\n",
       "      <td>12001.000000</td>\n",
       "      <td>12001.000000</td>\n",
       "      <td>12001.000000</td>\n",
       "      <td>12001.000000</td>\n",
       "      <td>12001.000000</td>\n",
       "      <td>0.0</td>\n",
       "      <td>0.0</td>\n",
       "    </tr>\n",
       "    <tr>\n",
       "      <th>mean</th>\n",
       "      <td>0.457962</td>\n",
       "      <td>6.709369</td>\n",
       "      <td>-26.557793</td>\n",
       "      <td>22.353043</td>\n",
       "      <td>0.010517</td>\n",
       "      <td>-0.015498</td>\n",
       "      <td>0.004980</td>\n",
       "      <td>NaN</td>\n",
       "      <td>NaN</td>\n",
       "    </tr>\n",
       "    <tr>\n",
       "      <th>std</th>\n",
       "      <td>0.498250</td>\n",
       "      <td>377.158470</td>\n",
       "      <td>357.458613</td>\n",
       "      <td>302.052809</td>\n",
       "      <td>0.346221</td>\n",
       "      <td>0.357644</td>\n",
       "      <td>0.349272</td>\n",
       "      <td>NaN</td>\n",
       "      <td>NaN</td>\n",
       "    </tr>\n",
       "    <tr>\n",
       "      <th>min</th>\n",
       "      <td>0.000000</td>\n",
       "      <td>-883.542316</td>\n",
       "      <td>-900.526951</td>\n",
       "      <td>-883.357762</td>\n",
       "      <td>-0.620748</td>\n",
       "      <td>-0.659921</td>\n",
       "      <td>-0.612709</td>\n",
       "      <td>NaN</td>\n",
       "      <td>NaN</td>\n",
       "    </tr>\n",
       "    <tr>\n",
       "      <th>25%</th>\n",
       "      <td>0.000000</td>\n",
       "      <td>-64.348986</td>\n",
       "      <td>-51.421937</td>\n",
       "      <td>-54.562257</td>\n",
       "      <td>-0.237610</td>\n",
       "      <td>-0.313721</td>\n",
       "      <td>-0.278951</td>\n",
       "      <td>NaN</td>\n",
       "      <td>NaN</td>\n",
       "    </tr>\n",
       "    <tr>\n",
       "      <th>50%</th>\n",
       "      <td>0.000000</td>\n",
       "      <td>-3.239788</td>\n",
       "      <td>4.711283</td>\n",
       "      <td>-0.399419</td>\n",
       "      <td>0.002465</td>\n",
       "      <td>-0.007192</td>\n",
       "      <td>0.008381</td>\n",
       "      <td>NaN</td>\n",
       "      <td>NaN</td>\n",
       "    </tr>\n",
       "    <tr>\n",
       "      <th>75%</th>\n",
       "      <td>1.000000</td>\n",
       "      <td>53.823453</td>\n",
       "      <td>69.637787</td>\n",
       "      <td>45.274542</td>\n",
       "      <td>0.285078</td>\n",
       "      <td>0.248681</td>\n",
       "      <td>0.289681</td>\n",
       "      <td>NaN</td>\n",
       "      <td>NaN</td>\n",
       "    </tr>\n",
       "    <tr>\n",
       "      <th>max</th>\n",
       "      <td>1.000000</td>\n",
       "      <td>885.738571</td>\n",
       "      <td>889.868884</td>\n",
       "      <td>901.274261</td>\n",
       "      <td>0.609864</td>\n",
       "      <td>0.627875</td>\n",
       "      <td>0.608243</td>\n",
       "      <td>NaN</td>\n",
       "      <td>NaN</td>\n",
       "    </tr>\n",
       "  </tbody>\n",
       "</table>\n",
       "</div>"
      ],
      "text/plain": [
       "         Output (S)            Ia            Ib            Ic            Va  \\\n",
       "count  12001.000000  12001.000000  12001.000000  12001.000000  12001.000000   \n",
       "mean       0.457962      6.709369    -26.557793     22.353043      0.010517   \n",
       "std        0.498250    377.158470    357.458613    302.052809      0.346221   \n",
       "min        0.000000   -883.542316   -900.526951   -883.357762     -0.620748   \n",
       "25%        0.000000    -64.348986    -51.421937    -54.562257     -0.237610   \n",
       "50%        0.000000     -3.239788      4.711283     -0.399419      0.002465   \n",
       "75%        1.000000     53.823453     69.637787     45.274542      0.285078   \n",
       "max        1.000000    885.738571    889.868884    901.274261      0.609864   \n",
       "\n",
       "                 Vb            Vc  Unnamed: 7  Unnamed: 8  \n",
       "count  12001.000000  12001.000000         0.0         0.0  \n",
       "mean      -0.015498      0.004980         NaN         NaN  \n",
       "std        0.357644      0.349272         NaN         NaN  \n",
       "min       -0.659921     -0.612709         NaN         NaN  \n",
       "25%       -0.313721     -0.278951         NaN         NaN  \n",
       "50%       -0.007192      0.008381         NaN         NaN  \n",
       "75%        0.248681      0.289681         NaN         NaN  \n",
       "max        0.627875      0.608243         NaN         NaN  "
      ]
     },
     "execution_count": 31,
     "metadata": {},
     "output_type": "execute_result"
    }
   ],
   "source": [
    "# For more information on the dataset like the total count in all the columns of train data\n",
    "# min, max values and more information of the respective columns \n",
    "df.describe()"
   ]
  },
  {
   "cell_type": "code",
   "execution_count": 32,
   "metadata": {
    "colab": {
     "base_uri": "https://localhost:8080/"
    },
    "id": "qR_KvwfZnqDh",
    "outputId": "076cf6d1-3035-44ce-b634-3669af36d2c4"
   },
   "outputs": [
    {
     "data": {
      "text/plain": [
       "Output (S)        0\n",
       "Ia                0\n",
       "Ib                0\n",
       "Ic                0\n",
       "Va                0\n",
       "Vb                0\n",
       "Vc                0\n",
       "Unnamed: 7    12001\n",
       "Unnamed: 8    12001\n",
       "dtype: int64"
      ]
     },
     "execution_count": 32,
     "metadata": {},
     "output_type": "execute_result"
    }
   ],
   "source": [
    "# Check for missing values in all the columnns of the dataset\n",
    "df.isnull().sum()"
   ]
  },
  {
   "cell_type": "code",
   "execution_count": 33,
   "metadata": {
    "colab": {
     "base_uri": "https://localhost:8080/"
    },
    "id": "RHYBt6CzSn3L",
    "outputId": "4ab99838-42dd-4f2f-9f95-7c1b4e7a3b6b"
   },
   "outputs": [
    {
     "name": "stdout",
     "output_type": "stream",
     "text": [
      "Output (S) : 2\n",
      "Ia : 12001\n",
      "Ib : 12001\n",
      "Ic : 12001\n",
      "Va : 11996\n",
      "Vb : 11813\n",
      "Vc : 11987\n",
      "Unnamed: 7 : 0\n",
      "Unnamed: 8 : 0\n"
     ]
    }
   ],
   "source": [
    "# loop through datatset to find count of unique values of each column\n",
    "for col in df.columns:\n",
    "    print(col,':',df[col].nunique())"
   ]
  },
  {
   "cell_type": "code",
   "execution_count": 34,
   "metadata": {
    "colab": {
     "base_uri": "https://localhost:8080/",
     "height": 111
    },
    "id": "kC38hVyv-fyX",
    "outputId": "b601e64b-70cd-456c-d10c-d8c06ea66251"
   },
   "outputs": [
    {
     "data": {
      "text/html": [
       "<div>\n",
       "<style scoped>\n",
       "    .dataframe tbody tr th:only-of-type {\n",
       "        vertical-align: middle;\n",
       "    }\n",
       "\n",
       "    .dataframe tbody tr th {\n",
       "        vertical-align: top;\n",
       "    }\n",
       "\n",
       "    .dataframe thead th {\n",
       "        text-align: right;\n",
       "    }\n",
       "</style>\n",
       "<table border=\"1\" class=\"dataframe\">\n",
       "  <thead>\n",
       "    <tr style=\"text-align: right;\">\n",
       "      <th></th>\n",
       "      <th>Output (S)</th>\n",
       "      <th>Ia</th>\n",
       "      <th>Ib</th>\n",
       "      <th>Ic</th>\n",
       "      <th>Va</th>\n",
       "      <th>Vb</th>\n",
       "      <th>Vc</th>\n",
       "    </tr>\n",
       "  </thead>\n",
       "  <tbody>\n",
       "    <tr>\n",
       "      <th>0</th>\n",
       "      <td>0</td>\n",
       "      <td>-170.472196</td>\n",
       "      <td>9.219613</td>\n",
       "      <td>161.252583</td>\n",
       "      <td>0.05449</td>\n",
       "      <td>-0.659921</td>\n",
       "      <td>0.605431</td>\n",
       "    </tr>\n",
       "    <tr>\n",
       "      <th>1</th>\n",
       "      <td>0</td>\n",
       "      <td>-122.235754</td>\n",
       "      <td>6.168667</td>\n",
       "      <td>116.067087</td>\n",
       "      <td>0.10200</td>\n",
       "      <td>-0.628612</td>\n",
       "      <td>0.526202</td>\n",
       "    </tr>\n",
       "  </tbody>\n",
       "</table>\n",
       "</div>"
      ],
      "text/plain": [
       "   Output (S)          Ia        Ib          Ic       Va        Vb        Vc\n",
       "0           0 -170.472196  9.219613  161.252583  0.05449 -0.659921  0.605431\n",
       "1           0 -122.235754  6.168667  116.067087  0.10200 -0.628612  0.526202"
      ]
     },
     "execution_count": 34,
     "metadata": {},
     "output_type": "execute_result"
    }
   ],
   "source": [
    "# drop 'Unnamed: 7','Unnamed: 8'\n",
    "df.drop(['Unnamed: 7','Unnamed: 8'],axis=1,inplace=True)\n",
    "df.head(2)"
   ]
  },
  {
   "cell_type": "code",
   "execution_count": 35,
   "metadata": {
    "colab": {
     "base_uri": "https://localhost:8080/"
    },
    "id": "Y3VNecxg-fuS",
    "outputId": "89940248-b276-4809-f275-f5a119581080"
   },
   "outputs": [
    {
     "data": {
      "text/plain": [
       "0    6505\n",
       "1    5496\n",
       "Name: Output (S), dtype: int64"
      ]
     },
     "execution_count": 35,
     "metadata": {},
     "output_type": "execute_result"
    }
   ],
   "source": [
    "# check total number of fault and no-fault instances\n",
    "df['Output (S)'].value_counts()"
   ]
  },
  {
   "cell_type": "markdown",
   "metadata": {
    "id": "2tYBYcVMTXOe"
   },
   "source": [
    "# Correlation Matrix\n",
    "\n",
    "## Why?\n",
    "#### A correlation matrix is a table showing correlation coefficients between variables.\n",
    "\n",
    "### There are three broad reasons for computing a correlation matrix:\n",
    "\n",
    "  1. To summarize a large amount of data where the goal is to see patterns. In our example above, the observable pattern is that all the variables highly correlate with each other.\n",
    "  2. To input into other analyses. For example, people commonly use correlation matrixes as inputs for exploratory factor analysis, confirmatory factor analysis, structural equation models, and linear regression when excluding missing values pairwise.\n",
    "  3. As a diagnostic when checking other analyses. For example, with linear regression, a high amount of correlations suggests that the linear regression estimates will be unreliable."
   ]
  },
  {
   "cell_type": "code",
   "execution_count": 36,
   "metadata": {
    "colab": {
     "base_uri": "https://localhost:8080/",
     "height": 184
    },
    "id": "Txt0Rpe4CS_v",
    "outputId": "164315ef-5ea7-402b-a51c-c2255ace806e"
   },
   "outputs": [
    {
     "data": {
      "text/html": [
       "<div>\n",
       "<style scoped>\n",
       "    .dataframe tbody tr th:only-of-type {\n",
       "        vertical-align: middle;\n",
       "    }\n",
       "\n",
       "    .dataframe tbody tr th {\n",
       "        vertical-align: top;\n",
       "    }\n",
       "\n",
       "    .dataframe thead th {\n",
       "        text-align: right;\n",
       "    }\n",
       "</style>\n",
       "<table border=\"1\" class=\"dataframe\">\n",
       "  <thead>\n",
       "    <tr style=\"text-align: right;\">\n",
       "      <th></th>\n",
       "      <th>Output (S)</th>\n",
       "      <th>Ia</th>\n",
       "      <th>Ib</th>\n",
       "      <th>Ic</th>\n",
       "      <th>Va</th>\n",
       "      <th>Vb</th>\n",
       "      <th>Vc</th>\n",
       "    </tr>\n",
       "  </thead>\n",
       "  <tbody>\n",
       "    <tr>\n",
       "      <th>Output (S)</th>\n",
       "      <td>1.000000</td>\n",
       "      <td>0.039408</td>\n",
       "      <td>-0.134028</td>\n",
       "      <td>0.120044</td>\n",
       "      <td>-0.035377</td>\n",
       "      <td>0.012206</td>\n",
       "      <td>0.022570</td>\n",
       "    </tr>\n",
       "    <tr>\n",
       "      <th>Ia</th>\n",
       "      <td>0.039408</td>\n",
       "      <td>1.000000</td>\n",
       "      <td>-0.375477</td>\n",
       "      <td>-0.275694</td>\n",
       "      <td>0.032598</td>\n",
       "      <td>-0.158207</td>\n",
       "      <td>0.129686</td>\n",
       "    </tr>\n",
       "    <tr>\n",
       "      <th>Ib</th>\n",
       "      <td>-0.134028</td>\n",
       "      <td>-0.375477</td>\n",
       "      <td>1.000000</td>\n",
       "      <td>-0.530187</td>\n",
       "      <td>-0.027052</td>\n",
       "      <td>0.032248</td>\n",
       "      <td>-0.006205</td>\n",
       "    </tr>\n",
       "    <tr>\n",
       "      <th>Ic</th>\n",
       "      <td>0.120044</td>\n",
       "      <td>-0.275694</td>\n",
       "      <td>-0.530187</td>\n",
       "      <td>1.000000</td>\n",
       "      <td>-0.001813</td>\n",
       "      <td>-0.096194</td>\n",
       "      <td>0.100298</td>\n",
       "    </tr>\n",
       "    <tr>\n",
       "      <th>Va</th>\n",
       "      <td>-0.035377</td>\n",
       "      <td>0.032598</td>\n",
       "      <td>-0.027052</td>\n",
       "      <td>-0.001813</td>\n",
       "      <td>1.000000</td>\n",
       "      <td>-0.507928</td>\n",
       "      <td>-0.471163</td>\n",
       "    </tr>\n",
       "    <tr>\n",
       "      <th>Vb</th>\n",
       "      <td>0.012206</td>\n",
       "      <td>-0.158207</td>\n",
       "      <td>0.032248</td>\n",
       "      <td>-0.096194</td>\n",
       "      <td>-0.507928</td>\n",
       "      <td>1.000000</td>\n",
       "      <td>-0.520478</td>\n",
       "    </tr>\n",
       "    <tr>\n",
       "      <th>Vc</th>\n",
       "      <td>0.022570</td>\n",
       "      <td>0.129686</td>\n",
       "      <td>-0.006205</td>\n",
       "      <td>0.100298</td>\n",
       "      <td>-0.471163</td>\n",
       "      <td>-0.520478</td>\n",
       "      <td>1.000000</td>\n",
       "    </tr>\n",
       "  </tbody>\n",
       "</table>\n",
       "</div>"
      ],
      "text/plain": [
       "            Output (S)        Ia        Ib        Ic        Va        Vb  \\\n",
       "Output (S)    1.000000  0.039408 -0.134028  0.120044 -0.035377  0.012206   \n",
       "Ia            0.039408  1.000000 -0.375477 -0.275694  0.032598 -0.158207   \n",
       "Ib           -0.134028 -0.375477  1.000000 -0.530187 -0.027052  0.032248   \n",
       "Ic            0.120044 -0.275694 -0.530187  1.000000 -0.001813 -0.096194   \n",
       "Va           -0.035377  0.032598 -0.027052 -0.001813  1.000000 -0.507928   \n",
       "Vb            0.012206 -0.158207  0.032248 -0.096194 -0.507928  1.000000   \n",
       "Vc            0.022570  0.129686 -0.006205  0.100298 -0.471163 -0.520478   \n",
       "\n",
       "                  Vc  \n",
       "Output (S)  0.022570  \n",
       "Ia          0.129686  \n",
       "Ib         -0.006205  \n",
       "Ic          0.100298  \n",
       "Va         -0.471163  \n",
       "Vb         -0.520478  \n",
       "Vc          1.000000  "
      ]
     },
     "execution_count": 36,
     "metadata": {},
     "output_type": "execute_result"
    }
   ],
   "source": [
    "# Using pandas\n",
    "df.corr()"
   ]
  },
  {
   "cell_type": "markdown",
   "metadata": {
    "id": "XnEsWEEsTm-T"
   },
   "source": [
    "# Histogram\n",
    "\n",
    "1. A histogram is an approximate representation of the distribution of numerical data.\n",
    "\n",
    "2. To construct a histogram, the first step is to \"bin\" (or \"bucket\") the range of values—that is, divide the entire range of values into a series of intervals—and then count how many values fall into each interval.\n",
    "\n",
    "3. The words used to describe the patterns in a histogram are: \"symmetric\", \"skewed left\" or \"right\", \"unimodal\", \"bimodal\" or \"multimodal\"."
   ]
  },
  {
   "cell_type": "code",
   "execution_count": 37,
   "metadata": {
    "colab": {
     "base_uri": "https://localhost:8080/",
     "height": 1000
    },
    "id": "IQ2N-BOlCS-X",
    "outputId": "2706110c-b92c-4b3a-ad4b-e17330407c63"
   },
   "outputs": [
    {
     "data": {
      "text/plain": [
       "array([[<AxesSubplot:title={'center':'Output (S)'}>,\n",
       "        <AxesSubplot:title={'center':'Ia'}>,\n",
       "        <AxesSubplot:title={'center':'Ib'}>],\n",
       "       [<AxesSubplot:title={'center':'Ic'}>,\n",
       "        <AxesSubplot:title={'center':'Va'}>,\n",
       "        <AxesSubplot:title={'center':'Vb'}>],\n",
       "       [<AxesSubplot:title={'center':'Vc'}>, <AxesSubplot:>,\n",
       "        <AxesSubplot:>]], dtype=object)"
      ]
     },
     "execution_count": 37,
     "metadata": {},
     "output_type": "execute_result"
    },
    {
     "data": {
      "image/png": "[encoded data removed]",
      "text/plain": [
       "<Figure size 1440x864 with 9 Axes>"
      ]
     },
     "metadata": {
      "needs_background": "light"
     },
     "output_type": "display_data"
    }
   ],
   "source": [
    "# Histogram using pandas \n",
    "df.hist(figsize=(20,12))"
   ]
  },
  {
   "cell_type": "markdown",
   "metadata": {
    "id": "A9lQc6G_T6le"
   },
   "source": [
    "### Count plot"
   ]
  },
  {
   "cell_type": "code",
   "execution_count": 38,
   "metadata": {
    "colab": {
     "base_uri": "https://localhost:8080/",
     "height": 335
    },
    "id": "44nndj72Cjak",
    "outputId": "10a6b5eb-68bd-42a1-d2e0-1a0c7363d614"
   },
   "outputs": [
    {
     "name": "stderr",
     "output_type": "stream",
     "text": [
      "C:\\ProgramData\\Anaconda3\\lib\\site-packages\\seaborn\\_decorators.py:36: FutureWarning: Pass the following variable as a keyword arg: x. From version 0.12, the only valid positional argument will be `data`, and passing other arguments without an explicit keyword will result in an error or misinterpretation.\n",
      "  warnings.warn(\n"
     ]
    },
    {
     "data": {
      "image/png": "[encoded data removed]",
      "text/plain": [
       "<Figure size 432x288 with 1 Axes>"
      ]
     },
     "metadata": {
      "needs_background": "light"
     },
     "output_type": "display_data"
    }
   ],
   "source": [
    "# count plot of Output (S) column\n",
    "sns.countplot(df['Output (S)'])\n",
    "plt.show()"
   ]
  },
  {
   "cell_type": "markdown",
   "metadata": {
    "id": "TqaIURlaT_e2"
   },
   "source": [
    "# Box plot\n",
    "\n",
    "\n",
    "A boxplot is a standardized way of displaying the dataset based on a five-number summary:\n",
    "\n",
    "    1. Minimum (Q0 or 0th percentile): the lowest data point excluding any outliers.\n",
    "\n",
    "    2. Maximum (Q4 or 100th percentile): the largest data point excluding any outliers.\n",
    "\n",
    "    3. Median (Q2 or 50th percentile): the middle value of the dataset.\n",
    "\n",
    "    4. First quartile (Q1 or 25th percentile): also known as the lower quartile qn(0.25), is the median of the lower half of the dataset.\n",
    "\n",
    "    5. Third quartile (Q3 or 75th percentile): also known as the upper quartile qn(0.75), is the median of the upper half of the dataset"
   ]
  },
  {
   "cell_type": "code",
   "execution_count": 130,
   "metadata": {
    "colab": {
     "base_uri": "https://localhost:8080/",
     "height": 679
    },
    "id": "OwU1rU-KCjDn",
    "outputId": "498d390d-2814-4407-b1ca-317156cb6fde"
   },
   "outputs": [
    {
     "data": {
      "text/plain": [
       "{'boxes': [<matplotlib.lines.Line2D at 0x7fb664223ad0>],\n",
       " 'caps': [<matplotlib.lines.Line2D at 0x7fb66422ab10>,\n",
       "  <matplotlib.lines.Line2D at 0x7fb664231090>],\n",
       " 'fliers': [<matplotlib.lines.Line2D at 0x7fb664231b50>],\n",
       " 'means': [],\n",
       " 'medians': [<matplotlib.lines.Line2D at 0x7fb664231610>],\n",
       " 'whiskers': [<matplotlib.lines.Line2D at 0x7fb66422a090>,\n",
       "  <matplotlib.lines.Line2D at 0x7fb66422a5d0>]}"
      ]
     },
     "execution_count": 130,
     "metadata": {},
     "output_type": "execute_result"
    },
    {
     "data": {
      "image/png": "[encoded data removed]",
      "text/plain": [
       "<Figure size 1440x648 with 1 Axes>"
      ]
     },
     "metadata": {
      "needs_background": "light"
     },
     "output_type": "display_data"
    }
   ],
   "source": [
    "# box plot using pandas \n",
    "# box plot for Output (S) column \n",
    "\n",
    "plt.figure(figsize=(20,9))\n",
    "df.boxplot(column='Output (S)')\n",
    "plt.show()"
   ]
  },
  {
   "cell_type": "code",
   "execution_count": 25,
   "metadata": {
    "colab": {
     "base_uri": "https://localhost:8080/",
     "height": 679
    },
    "id": "Ri4cEZKrDDk1",
    "outputId": "cd230410-7cdb-43a3-fef4-191320850009"
   },
   "outputs": [
    {
     "data": {
      "image/png": "[encoded data removed]",
      "text/plain": [
       "<Figure size 1440x648 with 1 Axes>"
      ]
     },
     "metadata": {
      "needs_background": "light"
     },
     "output_type": "display_data"
    }
   ],
   "source": [
    "# box plot using pandas \n",
    "# box plot for Ia column \n",
    "\n",
    "plt.figure(figsize=(20,9))\n",
    "df.boxplot(column='Ia')\n",
    "plt.show()"
   ]
  },
  {
   "cell_type": "code",
   "execution_count": 24,
   "metadata": {
    "colab": {
     "base_uri": "https://localhost:8080/",
     "height": 679
    },
    "id": "iATUk1TjDDiU",
    "outputId": "c9de909b-e7b9-4382-960e-a1130eda30a3"
   },
   "outputs": [
    {
     "data": {
      "image/png": "[encoded data removed]",
      "text/plain": [
       "<Figure size 1440x648 with 1 Axes>"
      ]
     },
     "metadata": {
      "needs_background": "light"
     },
     "output_type": "display_data"
    }
   ],
   "source": [
    "# box plot using pandas \n",
    "# box plot for Ib column \n",
    "\n",
    "plt.figure(figsize=(20,9))\n",
    "df.boxplot(column='Ib')\n",
    "plt.show()"
   ]
  },
  {
   "cell_type": "code",
   "execution_count": 23,
   "metadata": {
    "colab": {
     "base_uri": "https://localhost:8080/",
     "height": 679
    },
    "id": "rJQv1P0hDDe2",
    "outputId": "4f36e1d8-0b52-4b07-ee58-01812bfb55c6"
   },
   "outputs": [
    {
     "data": {
      "image/png": "[encoded data removed]",
      "text/plain": [
       "<Figure size 1440x648 with 1 Axes>"
      ]
     },
     "metadata": {
      "needs_background": "light"
     },
     "output_type": "display_data"
    }
   ],
   "source": [
    "# box plot using pandas \n",
    "# box plot for Ic column \n",
    "\n",
    "plt.figure(figsize=(20,9))\n",
    "df.boxplot(column='Ic')\n",
    "plt.show()"
   ]
  },
  {
   "cell_type": "code",
   "execution_count": 22,
   "metadata": {
    "colab": {
     "base_uri": "https://localhost:8080/",
     "height": 679
    },
    "id": "26iWjxk3DDdf",
    "outputId": "32dee1be-b828-4fb5-fd38-1b045640602c"
   },
   "outputs": [
    {
     "data": {
      "image/png": "[encoded data removed]",
      "text/plain": [
       "<Figure size 1440x648 with 1 Axes>"
      ]
     },
     "metadata": {
      "needs_background": "light"
     },
     "output_type": "display_data"
    }
   ],
   "source": [
    "# box plot using pandas \n",
    "# box plot for Va column \n",
    "\n",
    "plt.figure(figsize=(20,9))\n",
    "df.boxplot(column='Va')\n",
    "plt.show()"
   ]
  },
  {
   "cell_type": "code",
   "execution_count": 21,
   "metadata": {
    "colab": {
     "base_uri": "https://localhost:8080/",
     "height": 679
    },
    "id": "OqafrG7oDDa8",
    "outputId": "1397abe2-b412-4149-fc86-c676d71d6be0"
   },
   "outputs": [
    {
     "data": {
      "image/png": "[encoded data removed]",
      "text/plain": [
       "<Figure size 1440x648 with 1 Axes>"
      ]
     },
     "metadata": {
      "needs_background": "light"
     },
     "output_type": "display_data"
    }
   ],
   "source": [
    "# box plot using pandas \n",
    "# box plot for Vb column \n",
    "\n",
    "plt.figure(figsize=(20,9))\n",
    "df.boxplot(column='Vb')\n",
    "plt.show()"
   ]
  },
  {
   "cell_type": "code",
   "execution_count": 20,
   "metadata": {
    "colab": {
     "base_uri": "https://localhost:8080/",
     "height": 679
    },
    "id": "k0ZMrofFDDYt",
    "outputId": "190c3484-b0eb-4cc8-c444-aa712f98080d"
   },
   "outputs": [
    {
     "data": {
      "image/png": "[encoded data removed]",
      "text/plain": [
       "<Figure size 1440x648 with 1 Axes>"
      ]
     },
     "metadata": {
      "needs_background": "light"
     },
     "output_type": "display_data"
    }
   ],
   "source": [
    "# box plot using pandas \n",
    "# box plot for Vc column \n",
    "\n",
    "plt.figure(figsize=(20,9))\n",
    "df.boxplot(column='Vc')\n",
    "plt.show()"
   ]
  },
  {
   "cell_type": "markdown",
   "metadata": {
    "id": "jh9Q36xXZAeq"
   },
   "source": [
    "Dataset is balanced and not skewed in nature"
   ]
  },
  {
   "cell_type": "markdown",
   "metadata": {
    "id": "VoN41RlaUG_Y"
   },
   "source": [
    "# Dendrogram"
   ]
  },
  {
   "cell_type": "code",
   "execution_count": 26,
   "metadata": {
    "colab": {
     "base_uri": "https://localhost:8080/",
     "height": 592
    },
    "id": "_r5MsTqWDDU-",
    "outputId": "83a0cd9d-24ad-4918-980d-34654c95cf8d"
   },
   "outputs": [
    {
     "data": {
      "image/png": "[encoded data removed]",
      "text/plain": [
       "<Figure size 1296x720 with 1 Axes>"
      ]
     },
     "metadata": {
      "needs_background": "light"
     },
     "output_type": "display_data"
    }
   ],
   "source": [
    "# Plot a Dendrogram on the columns of the dataset\n",
    "\n",
    "# droping the NaN values\n",
    "X = df.dropna()\n",
    "\n",
    "import scipy\n",
    "from scipy import stats\n",
    "from scipy.cluster import hierarchy\n",
    "\n",
    "corr = np.round(scipy.stats.spearmanr(X).correlation,4)\n",
    "\n",
    "corr_condensed = hierarchy.distance.squareform(1-corr)\n",
    "\n",
    "fig = plt.figure(figsize=(18,10))\n",
    "\n",
    "dendrogram = hierarchy.dendrogram(hierarchy.linkage(corr_condensed,method='average'),\n",
    "                     labels=X.columns,orientation='left',leaf_font_size=15)\n",
    "\n",
    "plt.show()"
   ]
  },
  {
   "cell_type": "markdown",
   "metadata": {
    "id": "iNvxoKcNUX3H"
   },
   "source": [
    "# Preprocessing, Modeling and prediction on test data"
   ]
  },
  {
   "cell_type": "code",
   "execution_count": 39,
   "metadata": {
    "colab": {
     "base_uri": "https://localhost:8080/"
    },
    "id": "all5bN2N-fou",
    "outputId": "0cf1c278-f9b4-4eb0-fa17-7fda66c90b85"
   },
   "outputs": [
    {
     "data": {
      "text/plain": [
       "((12001, 6), (12001,))"
      ]
     },
     "execution_count": 39,
     "metadata": {},
     "output_type": "execute_result"
    }
   ],
   "source": [
    "## Split the labels and the target\n",
    "X=df.drop('Output (S)',axis=1)\n",
    "\n",
    "y = df['Output (S)']\n",
    "#check the shape \n",
    "X.shape, y.shape"
   ]
  },
  {
   "cell_type": "code",
   "execution_count": 40,
   "metadata": {
    "colab": {
     "base_uri": "https://localhost:8080/"
    },
    "id": "6-r_W-3k-flM",
    "outputId": "01c8eac0-feeb-4e30-ac9f-e5535e849c32"
   },
   "outputs": [
    {
     "name": "stdout",
     "output_type": "stream",
     "text": [
      "(9600, 6) (9600,)\n",
      "(2401, 6) (2401,)\n"
     ]
    }
   ],
   "source": [
    "# import train test split\n",
    "from sklearn.model_selection import train_test_split\n",
    "# Split into training (80%) and testing set (20%)\n",
    "X_train, X_test, y_train, y_test = train_test_split(X, y, test_size=0.2, random_state=42)\n",
    "\n",
    "# check shape of X_train and y_train\n",
    "print(X_train.shape, y_train.shape)\n",
    "\n",
    "# check shape of X_test and y_test\n",
    "print(X_test.shape, y_test.shape)"
   ]
  },
  {
   "cell_type": "markdown",
   "metadata": {
    "id": "JZ5YmmuoUk_8"
   },
   "source": [
    "### Scaling"
   ]
  },
  {
   "cell_type": "code",
   "execution_count": 41,
   "metadata": {
    "id": "HQmvIGL8-fj_"
   },
   "outputs": [],
   "source": [
    "# import min max scalar\n",
    "def sclaed_score(df,col):\n",
    "# Instantiate t\n",
    "    from sklearn.preprocessing import MinMaxScaler\n",
    "\n",
    "# fit on train data\n",
    "    scaler=MinMaxScaler()\n",
    "    df[col]=scaler.fit_transfom(df[col])\n",
    "# fit on test data\n",
    "    return df"
   ]
  },
  {
   "cell_type": "code",
   "execution_count": 42,
   "metadata": {},
   "outputs": [],
   "source": [
    "# Visualize importance of all the features in the dataset for the prediction\n",
    "def feature_imp(feature_importance,feature_train_df):\n",
    "    \n",
    "\n",
    "\n",
    "    # creating dataframe for feature name and feature importance\n",
    "    feature_imp_df=pd.DataFrame()\n",
    "    _df=pd.DataFrame()\n",
    "    _df['feature_imp'] = feature_importance\n",
    "    _df['column'] = feature_train_df.columns\n",
    "    feature_imp_df=pd.concat([feature_imp_df,_df],axis=0,ignore_index=True)\n",
    "\n",
    "    # grouping all data and sorting in descending order\n",
    "    descend_ordr = feature_imp_df.groupby('column').sum()[['feature_imp']].sort_values('feature_imp',ascending=False).index[:50]\n",
    "    \n",
    "    # ploting feature importance data using boxenplot\n",
    "    # return fig, ax\n",
    "    fig,ax = plt.subplots(figsize=(8,max(6,len(descend_ordr)*.25)))\n",
    "    # Visualize importance of all the features in the dataset for the prediction\n",
    "    sns.boxenplot(data=feature_imp_df,x='feature_imp',y='column',order=descend_ordr,ax=ax,palette='viridis',orient='h')\n",
    "    ax.tick_params(axis='x',rotation=90)\n",
    "    ax.set_title('Importance')\n",
    "    ax.grid()\n",
    "    fig.tight_layout()\n",
    "    return fig,ax"
   ]
  },
  {
   "cell_type": "code",
   "execution_count": 43,
   "metadata": {
    "id": "D10N3U1lLxQB"
   },
   "outputs": [],
   "source": [
    "# import accuracy_score, precision_score, precision_score, confusion_matrix\n",
    "\n",
    "from sklearn.metrics import precision_score,accuracy_score,confusion_matrix"
   ]
  },
  {
   "cell_type": "markdown",
   "metadata": {
    "id": "TX3S-qx5Uvzq"
   },
   "source": [
    "## LogisticRegression"
   ]
  },
  {
   "cell_type": "code",
   "execution_count": 44,
   "metadata": {},
   "outputs": [
    {
     "name": "stdout",
     "output_type": "stream",
     "text": [
      "The accuracy_score 0.7371928363182008\n",
      "The precision_score 1.0\n",
      "The confusion_matrix [[1306    0]\n",
      " [ 631  464]]\n",
      "Wall time: 448 ms\n"
     ]
    },
    {
     "data": {
      "image/png": "[encoded data removed]",
      "text/plain": [
       "<Figure size 432x288 with 2 Axes>"
      ]
     },
     "metadata": {
      "needs_background": "light"
     },
     "output_type": "display_data"
    },
    {
     "data": {
      "image/png": "[encoded data removed]",
      "text/plain": [
       "<Figure size 576x432 with 1 Axes>"
      ]
     },
     "metadata": {
      "needs_background": "light"
     },
     "output_type": "display_data"
    }
   ],
   "source": [
    "%%time\n",
    "# Fit a logistic Regression model to the train dataset\n",
    "\n",
    "# Import logisticRegressor\n",
    "from sklearn.linear_model import LogisticRegression\n",
    "\n",
    "\n",
    "# Instantiate the model\n",
    "log_class=LogisticRegression()\n",
    "# fitting the model on train data\n",
    "\n",
    "log_class.fit(X_train,y_train)\n",
    "#predict on test data\n",
    "prediction=log_class.predict(X_test)\n",
    "# print accuracy_score,precision_score,precision_score,confusion_matrix\n",
    "sns.heatmap(confusion_matrix(y_test,prediction),annot=True,cmap='Blues')\n",
    "print(\"The accuracy_score\",accuracy_score(y_test,prediction))\n",
    "print(\"The precision_score\",precision_score(y_test,prediction))\n",
    "# visualizing importance of features\n",
    "\n",
    "fig,ax=feature_imp(log_class.coef_[0],X_train)\n",
    "# display confusion matrix\n",
    "print(\"The confusion_matrix\",confusion_matrix(y_test,prediction))"
   ]
  },
  {
   "cell_type": "markdown",
   "metadata": {
    "id": "jMuXcH7vU0lG"
   },
   "source": [
    "## RandomForestClassifier"
   ]
  },
  {
   "cell_type": "code",
   "execution_count": 45,
   "metadata": {},
   "outputs": [
    {
     "name": "stdout",
     "output_type": "stream",
     "text": [
      "The accuracy_score 0.9979175343606831\n",
      "The precision_score 0.9963570127504554\n",
      "The confusion_matrix [[1302    4]\n",
      " [   1 1094]]\n",
      "Wall time: 2.78 s\n"
     ]
    },
    {
     "data": {
      "image/png": "[encoded data removed]",
      "text/plain": [
       "<Figure size 432x288 with 2 Axes>"
      ]
     },
     "metadata": {
      "needs_background": "light"
     },
     "output_type": "display_data"
    },
    {
     "data": {
      "image/png": "[encoded data removed]",
      "text/plain": [
       "<Figure size 576x432 with 1 Axes>"
      ]
     },
     "metadata": {
      "needs_background": "light"
     },
     "output_type": "display_data"
    }
   ],
   "source": [
    "%%time\n",
    "# Fit a RandomForestClassifier model to the train dataset\n",
    "\n",
    "#import RandomForestClassifier\n",
    "from sklearn.ensemble import RandomForestClassifier\n",
    "# Instantiate the model\n",
    "\n",
    "random_forest=RandomForestClassifier()\n",
    "# fitting the model on train data\n",
    "\n",
    "random_forest.fit(X_train,y_train)\n",
    "# predict on test data\n",
    "\n",
    "prediction=random_forest.predict(X_test)\n",
    "# print accuracy_score,precision_score,precision_score,confusion_matrix\n",
    "\n",
    "print(\"The accuracy_score\",accuracy_score(y_test,prediction))\n",
    "print(\"The precision_score\",precision_score(y_test,prediction))\n",
    "sns.heatmap(confusion_matrix(y_test,prediction),annot=True,cmap='Blues')\n",
    "\n",
    "# visualizing importance of features\n",
    "\n",
    "fig,ax=feature_imp(random_forest.feature_importances_,X_train)\n",
    "# display confusion matrix\n",
    "print(\"The confusion_matrix\",confusion_matrix(y_test,prediction))"
   ]
  },
  {
   "cell_type": "markdown",
   "metadata": {
    "id": "boAQ9dIRU3Xd"
   },
   "source": [
    "## DecisionTreeClassifier"
   ]
  },
  {
   "cell_type": "code",
   "execution_count": 46,
   "metadata": {
    "colab": {
     "base_uri": "https://localhost:8080/",
     "height": 831
    },
    "id": "Hc3mwALPwa7-",
    "outputId": "8f14bea3-6e87-4100-be8c-2cc5f16d3bd0"
   },
   "outputs": [
    {
     "name": "stdout",
     "output_type": "stream",
     "text": [
      "The accuracy_score 0.9958350687213661\n",
      "The precision_score 0.9945305378304466\n",
      "The confusion_matrix [[1300    6]\n",
      " [   4 1091]]\n",
      "Wall time: 522 ms\n"
     ]
    },
    {
     "data": {
      "image/png": "[encoded data removed]",
      "text/plain": [
       "<Figure size 432x288 with 2 Axes>"
      ]
     },
     "metadata": {
      "needs_background": "light"
     },
     "output_type": "display_data"
    },
    {
     "data": {
      "image/png": "[encoded data removed]",
      "text/plain": [
       "<Figure size 576x432 with 1 Axes>"
      ]
     },
     "metadata": {
      "needs_background": "light"
     },
     "output_type": "display_data"
    }
   ],
   "source": [
    "%%time\n",
    "# Fit a DecisionTreeClassifier model to the train dataset\n",
    "\n",
    "#import DecisionTreeClassifier\n",
    "from sklearn.tree import DecisionTreeClassifier\n",
    "\n",
    "# Instantiate the model\n",
    "\n",
    "decison_tree=DecisionTreeClassifier()\n",
    "# fitting the model on train data\n",
    "decison_tree.fit(X_train,y_train)\n",
    "\n",
    "# predict on test data\n",
    "prediction=decison_tree.predict(X_test)\n",
    "\n",
    "# print accuracy_score,precision_score,precision_score,confusion_matrix\n",
    "sns.heatmap(confusion_matrix(y_test,prediction),annot=True,cmap='Blues')\n",
    "print(\"The accuracy_score\",accuracy_score(y_test,prediction))\n",
    "print(\"The precision_score\",precision_score(y_test,prediction))\n",
    "\n",
    "\n",
    "\n",
    "# visualizing importance of features\n",
    "\n",
    "\n",
    "fig,ax=feature_imp(decison_tree.feature_importances_,X_train)\n",
    "# display confusion matrix\n",
    "print(\"The confusion_matrix\",confusion_matrix(y_test,prediction))\n",
    "\n"
   ]
  },
  {
   "cell_type": "markdown",
   "metadata": {
    "id": "GManaGfgU7io"
   },
   "source": [
    "## GradientBoostingClassifier"
   ]
  },
  {
   "cell_type": "code",
   "execution_count": 47,
   "metadata": {
    "colab": {
     "base_uri": "https://localhost:8080/",
     "height": 828
    },
    "id": "yDuLFGFEwa6i",
    "outputId": "0f74f7ea-0748-42b5-d2fe-7b2cecc95a5b"
   },
   "outputs": [
    {
     "name": "stdout",
     "output_type": "stream",
     "text": [
      "The accuracy_score 0.9966680549770929\n",
      "The precision_score 0.9972552607502287\n",
      "The confusion_matrix [[1303    3]\n",
      " [   5 1090]]\n",
      "Wall time: 4.05 s\n"
     ]
    },
    {
     "data": {
      "image/png": "[encoded data removed]",
      "text/plain": [
       "<Figure size 432x288 with 2 Axes>"
      ]
     },
     "metadata": {
      "needs_background": "light"
     },
     "output_type": "display_data"
    },
    {
     "data": {
      "image/png": "[encoded data removed]",
      "text/plain": [
       "<Figure size 576x432 with 1 Axes>"
      ]
     },
     "metadata": {
      "needs_background": "light"
     },
     "output_type": "display_data"
    }
   ],
   "source": [
    "%%time\n",
    "# Fit a Gradient Boosting Classifier model to the train dataset\n",
    "\n",
    "# Import GradientBoostingClassifier\n",
    "from sklearn.ensemble import GradientBoostingClassifier\n",
    "\n",
    "# Instantiate the model\n",
    "gradient=GradientBoostingClassifier()\n",
    "\n",
    "# fitting the model on train data\n",
    "\n",
    "gradient.fit(X_train,y_train)\n",
    "# predict on test data\n",
    "prediction=gradient.predict(X_test)\n",
    "sns.heatmap(confusion_matrix(y_test,prediction),annot=True,cmap='Blues')\n",
    "# print accuracy_score,precision_score,precision_score,confusion_matrix\n",
    "\n",
    "print(\"The accuracy_score\",accuracy_score(y_test,prediction))\n",
    "print(\"The precision_score\",precision_score(y_test,prediction))\n",
    "\n",
    "\n",
    "# visualizing importance of features\n",
    "\n",
    "\n",
    "fig,ax=feature_imp(gradient.feature_importances_,X_train)\n",
    "# display confusion matrix\n",
    "print(\"The confusion_matrix\",confusion_matrix(y_test,prediction))\n"
   ]
  },
  {
   "cell_type": "markdown",
   "metadata": {
    "id": "h-SaINO6YrZe"
   },
   "source": [
    "## Hyper parameter tunning\n",
    "\n",
    "A hyperparameter is a parameter whose value is set before the learning process begins.\n",
    "\n",
    "Hyperparameters tuning is crucial as they control the overall behavior of a machine learning model.\n",
    "\n",
    "Every machine learning models will have different hyperparameters that can be set.\n",
    "\n",
    "###RandomizedSearchCV\n",
    "\n",
    "RandomizedSearchCV is very useful when we have many parameters to try and the training time is very long.\n",
    "\n",
    "1. The first step is to write the parameters that we want to consider\n",
    "2. From these parameters select the best ones.(which are printed in output)"
   ]
  },
  {
   "cell_type": "code",
   "execution_count": 48,
   "metadata": {
    "id": "NOC29Wj5YbCO"
   },
   "outputs": [],
   "source": [
    "# Helper function to perform hyper parameter tunning with RandomizedSearchCV\n",
    "def random_Search(model,X_train, Y_train,param_grid):\n",
    "    from sklearn.model_selection import RandomizedSearchCV\n",
    "\n",
    "    # Random search of parameters, using 3 fold cross validation, \n",
    "    # search across 100 different combinations, and use all available cores\n",
    "    # Fit the random search model\n",
    "    random = RandomizedSearchCV(estimator=model,param_distributions=param_grid,n_iter=20,cv=3,verbose=2,random_state=42,n_jobs=-1)\n",
    "  \n",
    "    #fit on train\n",
    "    random.fit(X_train,y_train)\n",
    "    # print best_params_\n",
    "    print(random.best_params_)"
   ]
  },
  {
   "cell_type": "code",
   "execution_count": 49,
   "metadata": {
    "id": "XFlw8BdEYcfC"
   },
   "outputs": [
    {
     "name": "stdout",
     "output_type": "stream",
     "text": [
      "Fitting 3 folds for each of 20 candidates, totalling 60 fits\n",
      "{'n_estimators': 200, 'min_samples_split': 2, 'min_samples_leaf': 1, 'max_features': 'sqrt', 'max_depth': 10, 'bootstrap': False}\n",
      "Wall time: 1min 18s\n"
     ]
    }
   ],
   "source": [
    "%%time\n",
    "# for random forest classifier\n",
    "# create parameters dict for tunning\n",
    "# create parameters dict for tunning\n",
    "rf_para_grid = {'n_estimators': list(range(150, 301, 50)),\n",
    "               'max_features': ['auto', 'sqrt'],\n",
    "               'max_depth': [int(x) for x in np.linspace(3, 10, num = 3)],\n",
    "               'min_samples_split': [2, 5],\n",
    "               'min_samples_leaf': [1, 2],\n",
    "               'bootstrap': [True, False]}\n",
    "\n",
    "# passing data for hyper parameter tunning with Randomized search cv\n",
    "random_Search(RandomForestClassifier(),X_train, y_train,param_grid=rf_para_grid)"
   ]
  },
  {
   "cell_type": "code",
   "execution_count": 50,
   "metadata": {},
   "outputs": [
    {
     "name": "stderr",
     "output_type": "stream",
     "text": [
      "C:\\ProgramData\\Anaconda3\\lib\\site-packages\\sklearn\\ensemble\\_forest.py:427: FutureWarning: `max_features='auto'` has been deprecated in 1.1 and will be removed in 1.3. To keep the past behaviour, explicitly set `max_features='sqrt'` or remove this parameter as it is also the default value for RandomForestClassifiers and ExtraTreesClassifiers.\n",
      "  warn(\n"
     ]
    },
    {
     "name": "stdout",
     "output_type": "stream",
     "text": [
      "The accuracy_score 0.9975010412328197\n",
      "The precision_score 0.9963536918869644\n",
      "The confusion_matrix [[1302    4]\n",
      " [   2 1093]]\n",
      "Wall time: 4.37 s\n"
     ]
    },
    {
     "data": {
      "image/png": "[encoded data removed]",
      "text/plain": [
       "<Figure size 432x288 with 2 Axes>"
      ]
     },
     "metadata": {
      "needs_background": "light"
     },
     "output_type": "display_data"
    },
    {
     "data": {
      "image/png": "[encoded data removed]",
      "text/plain": [
       "<Figure size 576x432 with 1 Axes>"
      ]
     },
     "metadata": {
      "needs_background": "light"
     },
     "output_type": "display_data"
    }
   ],
   "source": [
    "%%time\n",
    "# Fit a RandomForestClassifier model to the train dataset\n",
    "\n",
    "#import RandomForestClassifier\n",
    "from sklearn.ensemble import RandomForestClassifier\n",
    "# Instantiate the model\n",
    "\n",
    "random_forest=RandomForestClassifier(**{'n_estimators': 200, 'min_samples_split': 5, 'min_samples_leaf': 1, 'max_features': 'auto', 'max_depth': 10, 'bootstrap': True})\n",
    "# fitting the model on train data\n",
    "\n",
    "random_forest.fit(X_train,y_train)\n",
    "# predict on test data\n",
    "\n",
    "prediction=random_forest.predict(X_test)\n",
    "sns.heatmap(confusion_matrix(y_test,prediction),annot=True,cmap='Blues')\n",
    "# print accuracy_score,precision_score,precision_score,confusion_matrix\n",
    "\n",
    "print(\"The accuracy_score\",accuracy_score(y_test,prediction))\n",
    "print(\"The precision_score\",precision_score(y_test,prediction))\n",
    "\n",
    "\n",
    "# visualizing importance of features\n",
    "\n",
    "fig,ax=feature_imp(random_forest.feature_importances_,X_train)\n",
    "# display confusion matrix\n",
    "print(\"The confusion_matrix\",confusion_matrix(y_test,prediction))\n"
   ]
  },
  {
   "cell_type": "markdown",
   "metadata": {
    "id": "cN05dpdgRQO_"
   },
   "source": [
    "### working with best model"
   ]
  },
  {
   "cell_type": "code",
   "execution_count": 51,
   "metadata": {
    "colab": {
     "base_uri": "https://localhost:8080/"
    },
    "id": "vh4AUr77wax5",
    "outputId": "ded138d0-940a-40d7-a882-fb83afbddc79"
   },
   "outputs": [
    {
     "name": "stdout",
     "output_type": "stream",
     "text": [
      "0.9975553644227205\n"
     ]
    }
   ],
   "source": [
    "# print Area under ROC of Model On Test Set\n",
    "from sklearn.metrics import roc_auc_score\n",
    "print(roc_auc_score(y_test,prediction))"
   ]
  },
  {
   "cell_type": "code",
   "execution_count": 52,
   "metadata": {
    "id": "SkytbPoGwawF"
   },
   "outputs": [],
   "source": [
    "# Create a dataframe with predicted result as data using best model\n",
    "data_frame=random_forest.predict(X_test)\n",
    "data_1=pd.DataFrame(data_frame)"
   ]
  },
  {
   "cell_type": "code",
   "execution_count": 53,
   "metadata": {
    "colab": {
     "base_uri": "https://localhost:8080/",
     "height": 204
    },
    "id": "bYNliUkEwaQ-",
    "outputId": "14d743dc-5758-4402-fbbd-b9ffcdd33b66"
   },
   "outputs": [
    {
     "data": {
      "text/html": [
       "<div>\n",
       "<style scoped>\n",
       "    .dataframe tbody tr th:only-of-type {\n",
       "        vertical-align: middle;\n",
       "    }\n",
       "\n",
       "    .dataframe tbody tr th {\n",
       "        vertical-align: top;\n",
       "    }\n",
       "\n",
       "    .dataframe thead th {\n",
       "        text-align: right;\n",
       "    }\n",
       "</style>\n",
       "<table border=\"1\" class=\"dataframe\">\n",
       "  <thead>\n",
       "    <tr style=\"text-align: right;\">\n",
       "      <th></th>\n",
       "      <th>0</th>\n",
       "    </tr>\n",
       "  </thead>\n",
       "  <tbody>\n",
       "    <tr>\n",
       "      <th>0</th>\n",
       "      <td>0</td>\n",
       "    </tr>\n",
       "    <tr>\n",
       "      <th>1</th>\n",
       "      <td>1</td>\n",
       "    </tr>\n",
       "    <tr>\n",
       "      <th>2</th>\n",
       "      <td>0</td>\n",
       "    </tr>\n",
       "    <tr>\n",
       "      <th>3</th>\n",
       "      <td>0</td>\n",
       "    </tr>\n",
       "    <tr>\n",
       "      <th>4</th>\n",
       "      <td>0</td>\n",
       "    </tr>\n",
       "  </tbody>\n",
       "</table>\n",
       "</div>"
      ],
      "text/plain": [
       "   0\n",
       "0  0\n",
       "1  1\n",
       "2  0\n",
       "3  0\n",
       "4  0"
      ]
     },
     "execution_count": 53,
     "metadata": {},
     "output_type": "execute_result"
    }
   ],
   "source": [
    "data_1.head()"
   ]
  },
  {
   "cell_type": "markdown",
   "metadata": {
    "id": "RG9uGYSFX65g"
   },
   "source": [
    "# Conclusion\n",
    "\n",
    "According to this model, the predicted value we got, matches with the actual target values. The model is performing well.  We have performed EDA, preprocessing, build different models, visualized feature importance, did hyper parameter tunning and did prediction."
   ]
  },
  {
   "cell_type": "markdown",
   "metadata": {
    "id": "p5t_gn_nX0wm"
   },
   "source": [
    "## Congratulation for completing the assignment.\n",
    "You have learned a lot while doing this assignment."
   ]
  }
 ],
 "metadata": {
  "colab": {
   "collapsed_sections": [],
   "name": "Electrical Fault detection with code.ipynb",
   "provenance": []
  },
  "kernelspec": {
   "display_name": "Python 3 (ipykernel)",
   "language": "python",
   "name": "python3"
  },
  "language_info": {
   "codemirror_mode": {
    "name": "ipython",
    "version": 3
   },
   "file_extension": ".py",
   "mimetype": "text/x-python",
   "name": "python",
   "nbconvert_exporter": "python",
   "pygments_lexer": "ipython3",
   "version": "3.10.7"
  }
 },
 "nbformat": 4,
 "nbformat_minor": 1
}
